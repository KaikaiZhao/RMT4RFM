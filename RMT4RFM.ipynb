{
 "cells": [
  {
   "cell_type": "code",
   "execution_count": 1,
   "metadata": {
    "collapsed": true,
    "deletable": true,
    "editable": true
   },
   "outputs": [],
   "source": [
    "import math\n",
    "import scipy.special,scipy.linalg\n",
    "import numpy as np\n",
    "from matplotlib import pyplot as plt\n",
    "from sklearn.datasets import fetch_mldata"
   ]
  },
  {
   "cell_type": "markdown",
   "metadata": {
    "deletable": true,
    "editable": true
   },
   "source": [
    "## Generate Data (Gaussian mixture or from the MNIST database)"
   ]
  },
  {
   "cell_type": "code",
   "execution_count": 2,
   "metadata": {
    "collapsed": false,
    "deletable": true,
    "editable": true
   },
   "outputs": [],
   "source": [
    "def gen_data(testcase,T,p,cs,means=None,covs=None):\n",
    "    rng = np.random\n",
    "    \n",
    "    if testcase is 'MNIST':\n",
    "        mnist=fetch_mldata('MNIST original')\n",
    "        data,labels = mnist.data,mnist.target\n",
    "        \n",
    "        # feel free to choose the number you like :)\n",
    "        selected_target = [6,8]\n",
    "        p = 784\n",
    "        K = len(selected_target)\n",
    "        \n",
    "        # get the whole set of selected number \n",
    "        data_full = []\n",
    "        data_full_matrix = np.array([]).reshape(p,0)\n",
    "        ind=0\n",
    "        for i in selected_target:\n",
    "            locate_target_train = np.where(labels==i)[0]\n",
    "            data_full.append(data[locate_target_train].T)\n",
    "            data_full_matrix = np.concatenate( (data_full_matrix,data[locate_target_train].T), axis=1)\n",
    "            ind+=1\n",
    "        \n",
    "\n",
    "        # recentering and normalization to satisfy Assumption 1 and\n",
    "        T_full = data_full_matrix.shape[1]\n",
    "        mean_selected_data = np.mean(data_full_matrix,axis=1).reshape(p,1)\n",
    "        norm2_selected_data = np.sum((data_full_matrix - np.mean(data_full_matrix,axis=1).reshape(p,1) )**2,(0,1))/T_full\n",
    "        for i in range(K):\n",
    "            data_full[i] = data_full[i] - mean_selected_data\n",
    "            data_full[i] = data_full[i]*np.sqrt(p)/np.sqrt(norm2_selected_data)\n",
    "            \n",
    "        \n",
    "        # get the statistics of MNIST data\n",
    "        means = []\n",
    "        covs = []\n",
    "        for i in range(K):\n",
    "            data_tmp = data_full[i]\n",
    "            T_tmp = data_tmp.shape[1]\n",
    "            means.append(np.mean(data_tmp,axis=1).reshape(p,1))\n",
    "            covs.append( (data_tmp@(data_tmp.T)/T_tmp - means[i]@(means[i].T)).reshape(p,p))\n",
    "        \n",
    "        X = np.array([]).reshape(p,0)\n",
    "        Omega = np.array([]).reshape(p,0)\n",
    "        y = []\n",
    "        \n",
    "        ind=0\n",
    "        for i in range(K):\n",
    "            data_tmp = data_full[i]\n",
    "            X = np.concatenate((X,data_tmp[:,range(np.int(cs[ind]*T))]),axis=1)\n",
    "            Omega = np.concatenate((Omega,data_tmp[:,range(np.int(cs[ind]*T))] - np.outer(means[ind],np.ones((1,np.int(T*cs[ind]) ))) ),axis=1)\n",
    "            y = np.concatenate( (y,2*(ind-K/2+.5)*np.ones(np.int(T*cs[ind]))) )\n",
    "            ind+=1                       \n",
    "        \n",
    "    else:\n",
    "        X = np.array([]).reshape(p,0)    \n",
    "        Omega = np.array([]).reshape(p,0)\n",
    "        y = []\n",
    "        \n",
    "        K = len(cs)\n",
    "        for i in range(K):\n",
    "            tmp = rng.multivariate_normal(means[i],covs[i],size=np.int(T*cs[i])).T\n",
    "            X = np.concatenate((X,tmp),axis=1)\n",
    "            Omega = np.concatenate((Omega,tmp-np.outer(means[i],np.ones((1,np.int(T*cs[i])))) ),axis=1)\n",
    "            y = np.concatenate( (y,2*(i-K/2+.5)*np.ones(np.int(T*cs[i]))) )\n",
    "            \n",
    "    X = X/np.sqrt(p)\n",
    "    Omega = Omega/np.sqrt(p)\n",
    "            \n",
    "    return X,Omega,y,means,covs"
   ]
  },
  {
   "cell_type": "markdown",
   "metadata": {
    "deletable": true,
    "editable": true
   },
   "source": [
    "## Generate activation functions ($\\sigma$)"
   ]
  },
  {
   "cell_type": "code",
   "execution_count": 16,
   "metadata": {
    "collapsed": true,
    "deletable": true,
    "editable": true
   },
   "outputs": [],
   "source": [
    "# Just a copy-paste of Table 2\n",
    "def gen_sig(fun,Z,tau,coeff=None):\n",
    "    \n",
    "    if fun is 't':\n",
    "        sig = Z\n",
    "        d = [0,1,0]\n",
    "    elif fun is 'ReLU':\n",
    "        sig = np.maximum(Z,0)\n",
    "        d = [(1/4-1/(2*np.pi))*tau,1/4,1/(8*np.pi*tau)]\n",
    "    elif fun is 'abs':\n",
    "        sig = np.abs(Z)\n",
    "        d = [(1-2/np.pi)*tau,0,1/(2*np.pi*tau)]\n",
    "    elif fun is 'LReLU':\n",
    "        sig = coeff[0]*np.maximum(Z,0)+coeff[1]*np.maximum(-Z,0)\n",
    "        d = [(np.pi-2)/(4*np.pi)*tau*(coeff[0]+coeff[1])**2,(coeff[0]-coeff[1])**2/4,(coeff[0]+coeff[1])**2/(8*np.pi*tau)]\n",
    "    elif fun is 'posit':\n",
    "        sig = (Z>0).astype(int)\n",
    "        d = [1/4-1/(2*np.pi),1/(2*np.pi*tau),0]\n",
    "    elif fun is 'sign':\n",
    "        sig = np.sign(Z)\n",
    "        d = [1-2/np.pi,2/(np.pi*tau),0]\n",
    "    elif fun is 'poly2':\n",
    "        sig = coeff[0]*Z**2+coeff[1]*Z+coeff[2]\n",
    "        d = [2*tau**2*coeff[0]**2,coeff[1]**2,coeff[2]**2]\n",
    "    elif fun is 'cos':\n",
    "        sig = np.cos(Z)\n",
    "        d = [1/2+np.exp(-2*tau)/2-np.exp(-tau),0,np.exp(-tau)/4]\n",
    "    elif fun is 'sin':\n",
    "        sig = np.sin(Z)\n",
    "        d = [1/2-np.exp(-2*tau)/2-tau*np.exp(-tau),np.exp(-tau),0]\n",
    "    elif fun is 'erf':\n",
    "        sig = scipy.special.erf(Z)\n",
    "        d = [2/np.pi*(np.arccos(2*tau/(2*tau+1)) - 2*tau/(2*tau+1)),4/np.pi/(2*tau+1),0]\n",
    "    elif fun is 'exp':\n",
    "        sig = np.exp(-Z**2/2)\n",
    "        d = [1/np.sqrt(2*tau+1) - 1/(tau+1),0,1/(4*(tau+1)**3)]\n",
    "         \n",
    "    return sig, d"
   ]
  },
  {
   "cell_type": "markdown",
   "metadata": {
    "deletable": true,
    "editable": true
   },
   "source": [
    "## Estimate $\\tau$"
   ]
  },
  {
   "cell_type": "code",
   "execution_count": 17,
   "metadata": {
    "collapsed": true,
    "deletable": true,
    "editable": true
   },
   "outputs": [],
   "source": [
    "def estim_tau(X):\n",
    "    tau = np.mean(np.diag(X.T@X))\n",
    "    \n",
    "    return tau"
   ]
  },
  {
   "cell_type": "markdown",
   "metadata": {
    "deletable": true,
    "editable": true
   },
   "source": [
    "## Generate the average kernel matrix $\\Phi_c$"
   ]
  },
  {
   "cell_type": "code",
   "execution_count": 18,
   "metadata": {
    "collapsed": true,
    "deletable": true,
    "editable": true
   },
   "outputs": [],
   "source": [
    "def gen_Phi(fun,X,n,coeff=None):\n",
    "    [p,T] = X.shape\n",
    "    Phi = np.zeros((T,T));\n",
    "    tau = estim_tau(X)\n",
    "    \n",
    "    nb_loops = 500\n",
    "    for loop in range(nb_loops):\n",
    "        W = np.random.normal(0,1,(n,p))\n",
    "        Sigma,_ = gen_sig(fun,W@X,tau,coeff)\n",
    "        Phi = Phi + (Sigma.T@Sigma)/n/nb_loops\n",
    "    \n",
    "    return Phi"
   ]
  },
  {
   "cell_type": "markdown",
   "metadata": {
    "deletable": true,
    "editable": true
   },
   "source": [
    "# Main code"
   ]
  },
  {
   "cell_type": "markdown",
   "metadata": {
    "deletable": true,
    "editable": true
   },
   "source": [
    "### Basic settings"
   ]
  },
  {
   "cell_type": "code",
   "execution_count": 19,
   "metadata": {
    "collapsed": false,
    "deletable": true,
    "editable": true
   },
   "outputs": [],
   "source": [
    "testcase = 'MNIST' # testcase for simulation, among 'iid','means','var','orth','mixed','MNIST'\n",
    "sigma = 'ReLU'\n",
    "# activation function, among 't', 'ReLu', 'abs', 'LReLU', 'posit', 'sign', 'poly2', 'cos', 'sin', 'erf', 'exp'\n",
    "coeff = [1,-1]     # parameters of LReLU or poly2 functions\n",
    "T = 128            # number of data\n",
    "n = 32             # number of neurons\n",
    "cs = [1/2,1/2]     # proportions of each class\n",
    "K = len(cs)\n",
    "\n",
    "# generate the data matrix with respect to different test cases\n",
    "if testcase is 'MNIST':\n",
    "    p = 784\n",
    "    X,Omega,y,means,covs = gen_data(testcase,T,p,cs)\n",
    "else:\n",
    "    # in the case of Gaussian mixture, the dimension of data should be given\n",
    "    p = 256\n",
    "    means=[]\n",
    "    covs=[]\n",
    "    if testcase is 'iid':\n",
    "        for i in range(K):\n",
    "            means.append(np.zeros(p))\n",
    "            covs.append(np.eye(p))     \n",
    "    elif testcase is 'means':\n",
    "        for i in range(K):\n",
    "            means.append( np.concatenate( (np.zeros(i),4*np.ones(1),np.zeros(p-i-1)) ) )\n",
    "            covs.append(np.eye(p))\n",
    "    elif testcase is 'var':\n",
    "        for i in range(K):\n",
    "            means.append(np.zeros(p))\n",
    "            covs.append(np.eye(p)*(1+8*i/np.sqrt(p)))\n",
    "    elif testcase is 'orth':\n",
    "        for i in range(K):\n",
    "            means.append(np.zeros(p))\n",
    "            covs.append( np.diag(np.concatenate( (np.ones(np.int(np.sum(prop[0:i]*p))),4*np.ones(np.int(prop[i]*p)),np.ones(np.int(np.sum(prop[i+1:]*p))) ) ) ))\n",
    "    elif testcase is 'mixed':\n",
    "        for i in range(K):\n",
    "            means.append( np.concatenate( (np.zeros(i),4*np.ones(1),np.zeros(p-i-1)) ) )\n",
    "            covs.append((1+4*i/np.sqrt(p))*scipy.linalg.toeplitz( [(.4*i)**x for x in range(p)] ))            \n",
    "\n",
    "    X,Omega,y,_,_ = gen_data(testcase,T,p,cs,means,covs)\n",
    "\n",
    "\n",
    "# Compute the average kernel matrix Phi_c with the data\n",
    "Phi = gen_Phi(sigma,X,n,coeff)\n",
    "P = np.eye(T) - np.ones((T,T))/T\n",
    "Phi_c = P@Phi@P"
   ]
  },
  {
   "cell_type": "markdown",
   "metadata": {
    "deletable": true,
    "editable": true
   },
   "source": [
    "### Generate the asymptotic equivalent $\\tilde \\Phi_c$ in Theorem 1"
   ]
  },
  {
   "cell_type": "code",
   "execution_count": 20,
   "metadata": {
    "collapsed": false
   },
   "outputs": [
    {
     "name": "stdout",
     "output_type": "stream",
     "text": [
      "Statistics of the data\n",
      "173.483353397\n",
      "93.0825529431\n"
     ]
    }
   ],
   "source": [
    "tau = estim_tau(X)\n",
    "M = np.array([]).reshape(p,0)\n",
    "t0 = []\n",
    "J = np.zeros((T,K))\n",
    "\n",
    "for i in range(K):\n",
    "    M = np.concatenate( (M,means[i].reshape(p,1)), axis=1)\n",
    "    t0.append(np.trace(covs[i])/p)\n",
    "    J[:,i] = (y==2*(i-K/2+.5))*1\n",
    "    \n",
    "phi = np.diag(Omega.T@Omega - J@t0)\n",
    "t = (t0 - tau)*np.sqrt(p)\n",
    "S = np.zeros((K,K))\n",
    "for i in range(K):\n",
    "    for j in range(K):\n",
    "        S[i,j] = np.trace(covs[i]@covs[j])/p\n",
    "\n",
    "\n",
    "_,d = gen_sig(sigma,0,tau,coeff)\n",
    "\n",
    "V = np.concatenate( (J/np.sqrt(p), phi.reshape(T,1), (Omega.T)@M ), axis=1)\n",
    "A11 = d[1]*(M.T)@M + d[2]*(np.outer(t,t) + 2*S)\n",
    "A = np.zeros( (2*K+1, 2*K+1) )\n",
    "\n",
    "A[0:K,0:K] = d[1]*(M.T@M)\n",
    "A[0:K,K] = d[2]*t\n",
    "A[0:K,K+1:] = d[1]*np.eye(K)\n",
    "A[K,0:K] = d[2]*t.T\n",
    "A[K,K] = d[2]\n",
    "A[K+1:,0:K] = d[1]*np.eye(K)\n",
    "\n",
    "tilde_Phi = d[1]*(Omega.T)@Omega + V@A@(V.T) + d[0]*np.eye(T)\n",
    "tilde_Phi_c = P@tilde_Phi@P\n",
    "\n",
    "print('Statistics of the data')\n",
    "print(np.linalg.norm( (M.T)@M ))\n",
    "print(np.linalg.norm( np.outer(t,t)+2*S ))"
   ]
  },
  {
   "cell_type": "markdown",
   "metadata": {},
   "source": [
    "### Compare the spectrums of $\\Phi_c$ and $\\tilde \\Phi_c$"
   ]
  },
  {
   "cell_type": "code",
   "execution_count": 21,
   "metadata": {
    "collapsed": false
   },
   "outputs": [],
   "source": [
    "U_Phi_c,D_Phi_c,_ = np.linalg.svd(Phi_c)\n",
    "tilde_U_Phi_c,tilde_D_Phi_c,_ = np.linalg.svd(tilde_Phi_c)"
   ]
  },
  {
   "cell_type": "markdown",
   "metadata": {},
   "source": [
    "#### Eigenvalue distribution"
   ]
  },
  {
   "cell_type": "code",
   "execution_count": 34,
   "metadata": {
    "collapsed": false
   },
   "outputs": [
    {
     "data": {
      "image/png": "[encoded data removed]",
      "text/plain": [
       "<matplotlib.figure.Figure at 0x10b27fa58>"
      ]
     },
     "metadata": {},
     "output_type": "display_data"
    }
   ],
   "source": [
    "xs = np.linspace( min(D_Phi_c), max(D_Phi_c), 50)\n",
    "n1, bins1, patches1 ,= plt.hist(D_Phi_c, 50, facecolor='b', alpha=0.5, label='Eigenvalues of $\\Phi_c$')\n",
    "n2, bins2, patches2 ,= plt.hist(tilde_D_Phi_c, 50, facecolor='r', alpha=0.5, label='Eigenvalues of $\\~\\Phi_c$')\n",
    "plt.legend()\n",
    "\n",
    "plt.show()"
   ]
  },
  {
   "cell_type": "markdown",
   "metadata": {},
   "source": [
    "#### Leading eigenvector"
   ]
  },
  {
   "cell_type": "code",
   "execution_count": 29,
   "metadata": {
    "collapsed": false
   },
   "outputs": [
    {
     "data": {
      "image/png": "[encoded data removed]",
      "text/plain": [
       "<matplotlib.figure.Figure at 0x10b34b208>"
      ]
     },
     "metadata": {},
     "output_type": "display_data"
    }
   ],
   "source": [
    "pl1 ,= plt.plot(U_Phi_c[:,0], 'b', label='Leading eigenvector of $\\Phi_c$')\n",
    "pl2 ,= plt.plot(tilde_U_Phi_c[:,0]*np.sign(U_Phi_c[1,0]*tilde_U_Phi_c[1,0]),'r--', label='Leading eigenvector of $\\~\\Phi_c$')\n",
    "plt.show()"
   ]
  }
 ],
 "metadata": {
  "kernelspec": {
   "display_name": "Python 3",
   "language": "python",
   "name": "python3"
  },
  "language_info": {
   "codemirror_mode": {
    "name": "ipython",
    "version": 3
   },
   "file_extension": ".py",
   "mimetype": "text/x-python",
   "name": "python",
   "nbconvert_exporter": "python",
   "pygments_lexer": "ipython3",
   "version": "3.6.4"
  }
 },
 "nbformat": 4,
 "nbformat_minor": 2
}
